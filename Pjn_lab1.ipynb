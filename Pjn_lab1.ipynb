{
  "nbformat": 4,
  "nbformat_minor": 0,
  "metadata": {
    "colab": {
      "name": "Pjn_lab1.ipynb",
      "provenance": [],
      "collapsed_sections": [
        "1AJ1jCg0NOlq",
        "aVZGNa6TrlmW",
        "q_N6Y8ALAVag",
        "P-BW6Z0rvwCm"
      ]
    },
    "kernelspec": {
      "name": "python3",
      "display_name": "Python 3"
    },
    "language_info": {
      "name": "python"
    }
  },
  "cells": [
    {
      "cell_type": "markdown",
      "metadata": {
        "id": "mpua-CblcE3B"
      },
      "source": [
        "### Polecenie\n",
        "1. Utworzyć korpus dokumentów na podstawie 5-10 książek pobranych ze strony [Wolne Lektury](https://wolnelektury.pl/)\n",
        "\n",
        "2. Dla każdej z pozycji zwizualizować częstość występowania tokenów i skomentować zgodność z prawem Zipfa. Jako tokeny przyjmujemy tylko tokeny zbudowane wyłącznie z liter.<br>\n",
        "Zastosować stoplistę  dla języka polskiego.\n",
        "\n",
        "3. Na podstawie korpusu zbudowanego   z 5 dowolnych książek ściągniętych ze strony Wolne Lektury zbudować macierz tfidf.  \n",
        "\n",
        "4. W oparciu o podobieństwo kosinusowe zbudować macierz odległości dokumentów. \n",
        "\n",
        "5. Przeprowadzić redukcję wymiarowości wymiarów macierzy tf-idf do 2 wymiarów  i zwizualizować położenie dokumentów na układzie współrzędnych.  \n",
        "\n",
        "6. Skomentować spójność wyników z punktu 4 i 5. Które dokumenty są najbardziej podobne do siebie  w obydwu wariantach?"
      ]
    },
    {
      "cell_type": "markdown",
      "metadata": {
        "id": "1AJ1jCg0NOlq"
      },
      "source": [
        "###Tworzenie korpusu"
      ]
    },
    {
      "cell_type": "code",
      "metadata": {
        "id": "VGzwfr0IoUQW"
      },
      "source": [
        "import urllib.request\n",
        "def open_book(url):\n",
        "  file = urllib.request.urlopen(url)\n",
        "  file = file.read().decode('utf-8')\n",
        "  return file[file.find(\"ISBN\")+26:file.rfind(\"-----\")]"
      ],
      "execution_count": 1,
      "outputs": []
    },
    {
      "cell_type": "markdown",
      "metadata": {
        "id": "GRd_seCRavHw"
      },
      "source": [
        "Funkcja wykorzystująca bibliotekę <font color='gold'>***urllib***</font> w celu otworzenia plików txt ze strony internetowej. Dodatkowo funkcja przycina nieistotny początek i koniec witryny. "
      ]
    },
    {
      "cell_type": "code",
      "metadata": {
        "id": "iH0h5sKzaonJ"
      },
      "source": [
        "urls = [\"https://www.wolnelektury.pl/media/book/txt/brzydkie-kaczatko.txt\", \n",
        "        \"https://wolnelektury.pl/media/book/txt/calineczka.txt\", \n",
        "        \"https://wolnelektury.pl/media/book/txt/dziewczynka-z-zapalkami.txt\",\n",
        "        \"https://wolnelektury.pl/media/book/txt/puszkin-bajka-o-rybaku-i-rybce.txt\",\n",
        "        \"https://wolnelektury.pl/media/book/txt/pan-grubas.txt\",\n",
        "        \"https://wolnelektury.pl/media/book/txt/lament-swietokrzyski.txt\"]\n",
        "\n",
        "corpus = []\n",
        "for url in urls:\n",
        "  corpus.append(open_book(url))"
      ],
      "execution_count": 2,
      "outputs": []
    },
    {
      "cell_type": "markdown",
      "metadata": {
        "id": "kskXxtNuvKHY"
      },
      "source": [
        "Dodawanie poszczególnych książek do korpusu."
      ]
    },
    {
      "cell_type": "markdown",
      "metadata": {
        "id": "8QPGk76QPkce"
      },
      "source": [
        "###Prawo Zipfa"
      ]
    },
    {
      "cell_type": "code",
      "metadata": {
        "id": "GO5DAlvo9qoN"
      },
      "source": [
        "import string\n",
        "punctuations = list(string.punctuation)\n",
        "punctuations.extend([\"!…\", \"–\", \"…\", \"«\", \"»\", \"„\", '”', \"”.\", \").\", \"—\", \"».\", \"!”\"])"
      ],
      "execution_count": 3,
      "outputs": []
    },
    {
      "cell_type": "markdown",
      "metadata": {
        "id": "qxmsWhLF9xjm"
      },
      "source": [
        "Lista zawierająca znaki interpunkcyjne, rozszerzona o znaki występujące w dokumentach z korpusu."
      ]
    },
    {
      "cell_type": "code",
      "metadata": {
        "id": "XKRZ5SPURUmg"
      },
      "source": [
        "from nltk import wordpunct_tokenize\n",
        "def divide_to_tokens(vector):\n",
        "  for token in wordpunct_tokenize(vector):\n",
        "    if token not in punctuations:\n",
        "      if token.lower() in d:\n",
        "        amount = d[token.lower()]\n",
        "        d[token.lower()] = amount+1\n",
        "      else:\n",
        "        d[token.lower()] = 1\n",
        "  return d"
      ],
      "execution_count": 4,
      "outputs": []
    },
    {
      "cell_type": "markdown",
      "metadata": {
        "id": "y3hmRWYbSHGU"
      },
      "source": [
        "Funkcja dzieląca wektor na tokeny dzięki funkcji <font color='gold'>***wordpunct_tokenize***</font> z biblioteki \n",
        "<font color='gold'>***nltk***</font> i wykluczająca interpunkcję. Dodatkowo w funkcji następuje przekształcenie do zapisu małymi literami. "
      ]
    },
    {
      "cell_type": "code",
      "metadata": {
        "id": "mZF8j4wAdM2m"
      },
      "source": [
        "def print_tokens_frequency(d):\n",
        "  d = dict(sorted(d.items(), key=lambda item: item[1], reverse=True))\n",
        "  print(\"\\033[1;34m\" + \n",
        "        \"{:<20} {:<12} {:<8} {:<8}\".format(\"Word\", \"Frequency\", \"Rank\", \"f*r\") + \n",
        "        \"\\033[0m\")\n",
        "  i = 1\n",
        "  for k, v in d.items():\n",
        "        print(\"{:<20} {:<12} {:<8} {:<8}\".format(k, v, i, v*i))\n",
        "        i+=1\n",
        "        if i==31:\n",
        "          break\n",
        "  print(\"\\n\\n\")"
      ],
      "execution_count": 5,
      "outputs": []
    },
    {
      "cell_type": "markdown",
      "metadata": {
        "id": "tUtHieSNdiWt"
      },
      "source": [
        "Funkcja wypisująca zawartość posortowanego malejąco słownika i licząca iloczyn liczby wystąpień słowa i pozycji słowa w rankingu. Ograniczyłam liczbę słów do pierwszych 30 dla większej przejrzystości wyników."
      ]
    },
    {
      "cell_type": "code",
      "metadata": {
        "colab": {
          "base_uri": "https://localhost:8080/"
        },
        "id": "rCXLvlXmy2tK",
        "outputId": "a5e9697c-7f7c-48c6-a3ec-fd020a3ac2ed"
      },
      "source": [
        "d = {}\n",
        "for vector in corpus:\n",
        "  d = divide_to_tokens(vector)\n",
        "  print_tokens_frequency(d)\n",
        "  d.clear()"
      ],
      "execution_count": 6,
      "outputs": [
        {
          "output_type": "stream",
          "name": "stdout",
          "text": [
            "\u001b[1;34mWord                 Frequency    Rank     f*r     \u001b[0m\n",
            "i                    135          1        135     \n",
            "się                  114          2        228     \n",
            "nie                  73           3        219     \n",
            "z                    66           4        264     \n",
            "na                   61           5        305     \n",
            "w                    52           6        312     \n",
            "a                    43           7        301     \n",
            "to                   43           8        344     \n",
            "do                   31           9        279     \n",
            "że                   29           10       290     \n",
            "tak                  27           11       297     \n",
            "jak                  25           12       300     \n",
            "kaczę                25           13       325     \n",
            "o                    22           14       308     \n",
            "za                   17           15       255     \n",
            "było                 16           16       256     \n",
            "co                   16           17       272     \n",
            "je                   16           18       288     \n",
            "po                   15           19       285     \n",
            "sobie                15           20       300     \n",
            "bardzo               15           21       315     \n",
            "ale                  15           22       330     \n",
            "brzydkie             15           23       345     \n",
            "mu                   15           24       360     \n",
            "tylko                13           25       325     \n",
            "takie                13           26       338     \n",
            "jest                 13           27       351     \n",
            "kaczka               12           28       336     \n",
            "rzekła               12           29       348     \n",
            "przez                12           30       360     \n",
            "\n",
            "\n",
            "\n",
            "\u001b[1;34mWord                 Frequency    Rank     f*r     \u001b[0m\n",
            "i                    140          1        140     \n",
            "się                  90           2        180     \n",
            "w                    68           3        204     \n",
            "nie                  58           4        232     \n",
            "na                   51           5        255     \n",
            "do                   49           6        294     \n",
            "z                    49           7        343     \n",
            "a                    38           8        304     \n",
            "calineczka           26           9        234     \n",
            "to                   25           10       250     \n",
            "jej                  25           11       275     \n",
            "ale                  22           12       264     \n",
            "ją                   22           13       286     \n",
            "bardzo               21           14       294     \n",
            "tylko                20           15       300     \n",
            "o                    18           16       288     \n",
            "było                 18           17       306     \n",
            "co                   17           18       306     \n",
            "jak                  17           19       323     \n",
            "za                   17           20       340     \n",
            "że                   17           21       357     \n",
            "tak                  16           22       352     \n",
            "od                   16           23       368     \n",
            "rzekła               13           24       312     \n",
            "kwiatów              13           25       325     \n",
            "bo                   12           26       312     \n",
            "dla                  12           27       324     \n",
            "jeszcze              12           28       336     \n",
            "dziewczynka          11           29       319     \n",
            "ze                   11           30       330     \n",
            "\n",
            "\n",
            "\n",
            "\u001b[1;34mWord                 Frequency    Rank     f*r     \u001b[0m\n",
            "i                    30           1        30      \n",
            "w                    25           2        50      \n",
            "na                   22           3        66      \n",
            "się                  19           4        76      \n",
            "nie                  16           5        80      \n",
            "z                    11           6        66      \n",
            "a                    11           7        77      \n",
            "do                   8            8        64      \n",
            "dziewczynka          7            9        63      \n",
            "jej                  7            10       70      \n",
            "tak                  6            11       66      \n",
            "zapałka              6            12       72      \n",
            "przez                5            13       65      \n",
            "miała                5            14       70      \n",
            "nią                  5            15       75      \n",
            "ale                  5            16       80      \n",
            "że                   5            17       85      \n",
            "ręce                 5            18       90      \n",
            "od                   5            19       95      \n",
            "dziewczynki          5            20       100     \n",
            "jak                  5            21       105     \n",
            "przed                5            22       110     \n",
            "za                   4            23       92      \n",
            "co                   4            24       96      \n",
            "ach                  4            25       100     \n",
            "jedną                4            26       104     \n",
            "nikt                 4            27       108     \n",
            "o                    4            28       112     \n",
            "ją                   4            29       116     \n",
            "ma                   4            30       120     \n",
            "\n",
            "\n",
            "\n",
            "\u001b[1;34mWord                 Frequency    Rank     f*r     \u001b[0m\n",
            "się                  41           1        41      \n",
            "i                    29           2        58      \n",
            "nie                  28           3        84      \n",
            "na                   24           4        96      \n",
            "z                    20           5        100     \n",
            "dziadek              19           6        114     \n",
            "morze                18           7        126     \n",
            "w                    15           8        120     \n",
            "do                   15           9        135     \n",
            "nad                  11           10       110     \n",
            "być                  10           11       110     \n",
            "jak                  9            12       108     \n",
            "rybkę                9            13       117     \n",
            "dziadku              9            14       126     \n",
            "ciemne               8            15       120     \n",
            "ta                   7            16       112     \n",
            "to                   7            17       119     \n",
            "mi                   7            18       126     \n",
            "a                    7            19       133     \n",
            "znowu                7            20       140     \n",
            "jej                  7            21       147     \n",
            "wracaj               7            22       154     \n",
            "babcia               6            23       138     \n",
            "złota                6            24       144     \n",
            "ci                   6            25       150     \n",
            "koryto               6            26       156     \n",
            "zaraz                6            27       162     \n",
            "czego                6            28       168     \n",
            "trzeba               6            29       174     \n",
            "rybce                6            30       180     \n",
            "\n",
            "\n",
            "\n",
            "\u001b[1;34mWord                 Frequency    Rank     f*r     \u001b[0m\n",
            "na                   15           1        15      \n",
            "się                  13           2        26      \n",
            "i                    12           3        36      \n",
            "w                    9            4        36      \n",
            "do                   9            5        45      \n",
            "z                    7            6        42      \n",
            "domu                 5            7        35      \n",
            "chciał               5            8        40      \n",
            "go                   4            9        36      \n",
            "kot                  4            10       40      \n",
            "jednak               4            11       44      \n",
            "ale                  4            12       48      \n",
            "kogucik              3            13       39      \n",
            "razem                3            14       42      \n",
            "sobie                3            15       45      \n",
            "mu                   3            16       48      \n",
            "pana                 3            17       51      \n",
            "grubasa              3            18       54      \n",
            "a                    3            19       57      \n",
            "kamień               3            20       60      \n",
            "młyński              3            21       63      \n",
            "jajko                3            22       66      \n",
            "gdy                  3            23       69      \n",
            "pan                  3            24       72      \n",
            "grubas               3            25       75      \n",
            "raz                  2            26       52      \n",
            "kurka                2            27       54      \n",
            "był                  2            28       56      \n",
            "tym                  2            29       58      \n",
            "powozik              2            30       60      \n",
            "\n",
            "\n",
            "\n",
            "\u001b[1;34mWord                 Frequency    Rank     f*r     \u001b[0m\n",
            "bych                 6            1        6       \n",
            "i                    5            2        10      \n",
            "a                    4            3        12      \n",
            "ja                   4            4        16      \n",
            "nie                  4            5        20      \n",
            "mi                   3            6        18      \n",
            "się                  3            7        21      \n",
            "w                    3            8        24      \n",
            "synku                3            9        27      \n",
            "nad                  3            10       30      \n",
            "miła                 2            11       22      \n",
            "wam                  2            12       24      \n",
            "syna                 2            13       26      \n",
            "miała                2            14       28      \n",
            "widzęć               2            15       30      \n",
            "miłe                 2            16       32      \n",
            "moja                 2            17       34      \n",
            "iż                   2            18       36      \n",
            "on                   2            19       38      \n",
            "miły                 2            20       40      \n",
            "cię                  2            21       42      \n",
            "tobie                2            22       44      \n",
            "mnie                 2            23       46      \n",
            "ci                   2            24       48      \n",
            "tęć                  2            25       50      \n",
            "pełna                2            26       52      \n",
            "posłuchajcie         1            27       27      \n",
            "bracia               1            28       28      \n",
            "kcęć                 1            29       29      \n",
            "skorżyć              1            30       30      \n",
            "\n",
            "\n",
            "\n"
          ]
        }
      ]
    },
    {
      "cell_type": "markdown",
      "metadata": {
        "id": "UR4DKeXjm8eF"
      },
      "source": [
        "Na podstawie przedstawionej powyżej tabeli widzimy, że prawo Zipfa jest spełnione. Częstość słowa jest odwrotnie proporcjonalna do rangi, zatem iloczyn rangi i częstości jest stały."
      ]
    },
    {
      "cell_type": "markdown",
      "metadata": {
        "id": "fF03T_fRhKFX"
      },
      "source": [
        "####Ze stoplistą"
      ]
    },
    {
      "cell_type": "code",
      "metadata": {
        "id": "maW_qn9Eg8lH"
      },
      "source": [
        "stoplist = urllib.request.urlopen(\"https://raw.githubusercontent.com/bieli/stopwords/master/polish.stopwords.txt\")\n",
        "stoplist = stoplist.read().decode('utf-8').splitlines()"
      ],
      "execution_count": 7,
      "outputs": []
    },
    {
      "cell_type": "markdown",
      "metadata": {
        "id": "LtKUZOfkhgKM"
      },
      "source": [
        "Na podstawie pliku txt znalezionego w internecie tworzę stoplistę."
      ]
    },
    {
      "cell_type": "code",
      "metadata": {
        "colab": {
          "base_uri": "https://localhost:8080/"
        },
        "id": "NVqOH_Mch5YJ",
        "outputId": "3df174dc-ba17-4f06-bd00-760d3103ecd8"
      },
      "source": [
        "for vector in corpus:\n",
        "  d = divide_to_tokens(vector)\n",
        "  d = {k:v for k, v in d.items() if k not in stoplist}\n",
        "  print_tokens_frequency(d)\n",
        "  d.clear()"
      ],
      "execution_count": 8,
      "outputs": [
        {
          "output_type": "stream",
          "name": "stdout",
          "text": [
            "\u001b[1;34mWord                 Frequency    Rank     f*r     \u001b[0m\n",
            "kaczę                25           1        25      \n",
            "brzydkie             15           2        30      \n",
            "kaczka               12           3        36      \n",
            "rzekła               12           4        48      \n",
            "kaczki               11           5        55      \n",
            "wody                 10           6        60      \n",
            "wodzie               9            7        63      \n",
            "dzieci               9            8        72      \n",
            "kaczątko             9            9        81      \n",
            "dalej                9            10       90      \n",
            "wielkie              8            11       88      \n",
            "kwa                  8            12       96      \n",
            "świat                8            13       104     \n",
            "ptaki                8            14       112     \n",
            "wreszcie             7            15       105     \n",
            "zaczęły              7            16       112     \n",
            "oczy                 7            17       119     \n",
            "duże                 7            18       126     \n",
            "wtem                 7            19       133     \n",
            "pływać               6            20       120     \n",
            "cóż                  6            21       126     \n",
            "zaczęło              6            22       132     \n",
            "siebie               6            23       138     \n",
            "kot                  6            24       144     \n",
            "kura                 6            25       150     \n",
            "łabędź               6            26       156     \n",
            "słońce               5            27       135     \n",
            "miała                5            28       140     \n",
            "jajka                5            29       145     \n",
            "matka                5            30       150     \n",
            "\n",
            "\n",
            "\n",
            "\u001b[1;34mWord                 Frequency    Rank     f*r     \u001b[0m\n",
            "calineczka           26           1        26      \n",
            "rzekła               13           2        26      \n",
            "kwiatów              13           3        39      \n",
            "dziewczynka          11           4        44      \n",
            "jaskółka             11           5        55      \n",
            "kret                 9            6        54      \n",
            "mysz                 8            7        56      \n",
            "kiwit                8            8        64      \n",
            "myszy                7            9        63      \n",
            "miała                6            10       60      \n",
            "zaraz                6            11       66      \n",
            "listek               6            12       72      \n",
            "calineczkę           6            13       78      \n",
            "razem                6            14       84      \n",
            "mogła                6            15       90      \n",
            "słońce               6            16       96      \n",
            "słońca               6            17       102     \n",
            "śpiewała             6            18       108     \n",
            "słonko               6            19       114     \n",
            "kreta                6            20       120     \n",
            "kobieta              5            21       105     \n",
            "cóż                  5            22       110     \n",
            "ropucha              5            23       115     \n",
            "mieszkania           5            24       120     \n",
            "ropuchy              5            25       125     \n",
            "mieszkanie           5            26       130     \n",
            "listka               5            27       135     \n",
            "żoną                 5            28       140     \n",
            "zima                 5            29       145     \n",
            "krajów               5            30       150     \n",
            "\n",
            "\n",
            "\n",
            "\u001b[1;34mWord                 Frequency    Rank     f*r     \u001b[0m\n",
            "dziewczynka          7            1        7       \n",
            "zapałka              6            2        12      \n",
            "miała                5            3        15      \n",
            "ręce                 5            4        20      \n",
            "dziewczynki          5            5        25      \n",
            "jedną                4            6        24      \n",
            "nikt                 4            7        28      \n",
            "zapaliła             4            8        32      \n",
            "coraz                3            9        27      \n",
            "chciała              3            10       30      \n",
            "śniegu               3            11       33      \n",
            "zapałek              3            12       36      \n",
            "ciepłym              3            13       39      \n",
            "jasne                3            14       42      \n",
            "jasny                3            15       45      \n",
            "zgasła               3            16       48      \n",
            "gęś                  3            17       51      \n",
            "wyżej                3            18       54      \n",
            "babciu               3            19       57      \n",
            "dzień                2            20       40      \n",
            "ulice                2            21       42      \n",
            "bosa                 2            22       44      \n",
            "pantofle             2            23       46      \n",
            "stare                2            24       48      \n",
            "słyszała             2            25       50      \n",
            "tuż                  2            26       52      \n",
            "boso                 2            27       54      \n",
            "mogła                2            28       56      \n",
            "nogi                 2            29       58      \n",
            "tę                   2            30       60      \n",
            "\n",
            "\n",
            "\n",
            "\u001b[1;34mWord                 Frequency    Rank     f*r     \u001b[0m\n",
            "dziadek              19           1        19      \n",
            "morze                18           2        36      \n",
            "rybkę                9            3        27      \n",
            "dziadku              9            4        36      \n",
            "ciemne               8            5        40      \n",
            "wracaj               7            6        42      \n",
            "babcia               6            7        42      \n",
            "złota                6            8        48      \n",
            "koryto               6            9        54      \n",
            "zaraz                6            10       60      \n",
            "czego                6            11       66      \n",
            "rybce                6            12       72      \n",
            "chcę                 6            13       78      \n",
            "chce                 6            14       84      \n",
            "swej                 5            15       75      \n",
            "babuni               5            16       80      \n",
            "poszedł              5            17       85      \n",
            "zaczął               5            18       90      \n",
            "przyzywać            5            19       95      \n",
            "złociuchną           5            20       100     \n",
            "przypłynęła          5            21       105     \n",
            "pyta                 5            22       110     \n",
            "rybaku               5            23       115     \n",
            "?»                   5            24       120     \n",
            "pokornie             5            25       125     \n",
            "kłania               5            26       130     \n",
            "zlituj               5            27       135     \n",
            "proszę               5            28       140     \n",
            "szanowna             5            29       145     \n",
            "rybko                5            30       150     \n",
            "\n",
            "\n",
            "\n",
            "\u001b[1;34mWord                 Frequency    Rank     f*r     \u001b[0m\n",
            "domu                 5            1        5       \n",
            "chciał               5            2        10      \n",
            "kot                  4            3        12      \n",
            "kogucik              3            4        12      \n",
            "razem                3            5        15      \n",
            "grubasa              3            6        18      \n",
            "kamień               3            7        21      \n",
            "młyński              3            8        24      \n",
            "jajko                3            9        27      \n",
            "grubas               3            10       30      \n",
            "raz                  2            11       22      \n",
            "kurka                2            12       24      \n",
            "powozik              2            13       26      \n",
            "czerwonych           2            14       28      \n",
            "myszki               2            15       30      \n",
            "imci                 2            16       32      \n",
            "potem                2            17       34      \n",
            "kaczka               2            18       36      \n",
            "szpilka              2            19       38      \n",
            "poduszce             2            20       40      \n",
            "igła                 2            21       42      \n",
            "twarz                2            22       44      \n",
            "chciały              1            23       23      \n",
            "odbyć                1            24       24      \n",
            "pewną                1            25       25      \n",
            "podróż               1            26       26      \n",
            "celu                 1            27       27      \n",
            "zbudował             1            28       28      \n",
            "ładny                1            29       29      \n",
            "czterech             1            30       30      \n",
            "\n",
            "\n",
            "\n",
            "\u001b[1;34mWord                 Frequency    Rank     f*r     \u001b[0m\n",
            "bych                 6            1        6       \n",
            "synku                3            2        6       \n",
            "miła                 2            3        6       \n",
            "syna                 2            4        8       \n",
            "miała                2            5        10      \n",
            "widzęć               2            6        12      \n",
            "miłe                 2            7        14      \n",
            "miły                 2            8        16      \n",
            "tęć                  2            9        18      \n",
            "pełna                2            10       20      \n",
            "posłuchajcie         1            11       11      \n",
            "bracia               1            12       12      \n",
            "kcęć                 1            13       13      \n",
            "skorżyć              1            14       14      \n",
            "krwawą               1            15       15      \n",
            "głowę                1            16       16      \n",
            "usłyszycie           1            17       17      \n",
            "zamętek              1            18       18      \n",
            "jen                  1            19       19      \n",
            "zstał                1            20       20      \n",
            "wielki               1            21       21      \n",
            "piątek               1            22       22      \n",
            "pożałuj              1            23       23      \n",
            "mię                  1            24       24      \n",
            "stary                1            25       25      \n",
            "młody                1            26       26      \n",
            "boć                  1            27       27      \n",
            "przyszły             1            28       28      \n",
            "krwawe               1            29       29      \n",
            "gody                 1            30       30      \n",
            "\n",
            "\n",
            "\n"
          ]
        }
      ]
    },
    {
      "cell_type": "markdown",
      "metadata": {
        "id": "3lzYDb2ypNSf"
      },
      "source": [
        "Stoplista nie zmienia prawdziwości prawa Zipfa, zmienia jednak diametralnie wypisywany wektor. Na przykład w pierwszym dokumencie widzimy, że z poprzednią tabelą pokrywają się jedynie 4 słowa - kaczę, brzydkie, kaczka, rzekła."
      ]
    },
    {
      "cell_type": "markdown",
      "metadata": {
        "id": "aVZGNa6TrlmW"
      },
      "source": [
        "###Macierz Tf-Idf"
      ]
    },
    {
      "cell_type": "code",
      "metadata": {
        "colab": {
          "base_uri": "https://localhost:8080/"
        },
        "id": "nLVfvDYWmHuN",
        "outputId": "affa2a56-f845-4be5-a495-1234d2ebbcca"
      },
      "source": [
        "from sklearn.feature_extraction.text import TfidfVectorizer\n",
        "# import numpy as np\n",
        "tfidf = TfidfVectorizer(smooth_idf=False, stop_words=stoplist)\n",
        "tfs = tfidf.fit_transform(corpus)\n",
        "# np.set_printoptions(threshold=np.inf)\n",
        "tfs.todense()"
      ],
      "execution_count": 9,
      "outputs": [
        {
          "output_type": "execute_result",
          "data": {
            "text/plain": [
              "matrix([[0.        , 0.        , 0.        , ..., 0.        , 0.        ,\n",
              "         0.        ],\n",
              "        [0.        , 0.        , 0.01517399, ..., 0.        , 0.        ,\n",
              "         0.        ],\n",
              "        [0.        , 0.        , 0.        , ..., 0.        , 0.        ,\n",
              "         0.        ],\n",
              "        [0.02079116, 0.02079116, 0.        , ..., 0.02079116, 0.02079116,\n",
              "         0.        ],\n",
              "        [0.        , 0.        , 0.        , ..., 0.        , 0.        ,\n",
              "         0.        ],\n",
              "        [0.        , 0.        , 0.        , ..., 0.        , 0.        ,\n",
              "         0.0748311 ]])"
            ]
          },
          "metadata": {},
          "execution_count": 9
        }
      ]
    },
    {
      "cell_type": "markdown",
      "metadata": {
        "id": "wdp_e2DfttXK"
      },
      "source": [
        "Z wykorzystaniem wcześniej przygotowanej stoplisty tworzę przy użyciu biblioteki <font color='gold'>***sklearn***</font> macierz tf-idf. (Zakomentowany kod pozwala wyświetlić macierz w całości.)"
      ]
    },
    {
      "cell_type": "code",
      "metadata": {
        "colab": {
          "base_uri": "https://localhost:8080/"
        },
        "id": "JUdf_L1Qx2OF",
        "outputId": "1e8e438e-958d-4518-8148-665faefef62f"
      },
      "source": [
        "tfidf.get_feature_names()[2:22]"
      ],
      "execution_count": 10,
      "outputs": [
        {
          "output_type": "execute_result",
          "data": {
            "text/plain": [
              "['abyśmy',\n",
              " 'aksamitne',\n",
              " 'aksamitnym',\n",
              " 'anjele',\n",
              " 'apetyt',\n",
              " 'ażeby',\n",
              " 'babcia',\n",
              " 'babciu',\n",
              " 'babie',\n",
              " 'babka',\n",
              " 'babki',\n",
              " 'babo',\n",
              " 'babuni',\n",
              " 'babunia',\n",
              " 'babunię',\n",
              " 'babą',\n",
              " 'bajać',\n",
              " 'bajeczkę',\n",
              " 'bajek',\n",
              " 'bali']"
            ]
          },
          "metadata": {},
          "execution_count": 10
        }
      ]
    },
    {
      "cell_type": "markdown",
      "metadata": {
        "id": "EGtDVTlzzjjC"
      },
      "source": [
        "Powyżej wypisane jest 20 przykładowych słów z macierzy."
      ]
    },
    {
      "cell_type": "markdown",
      "metadata": {
        "id": "-POpthbawDOg"
      },
      "source": [
        "###Podobieństwo cosinusowe"
      ]
    },
    {
      "cell_type": "code",
      "metadata": {
        "colab": {
          "base_uri": "https://localhost:8080/"
        },
        "id": "brrPqYeqzywl",
        "outputId": "a17d3496-55f0-4e59-b23b-60432154c2d8"
      },
      "source": [
        "from sklearn.feature_extraction.text import CountVectorizer\n",
        "tokens_frequency = CountVectorizer(stop_words=stoplist).fit_transform(corpus)\n",
        "tokens_frequency.todense()"
      ],
      "execution_count": 11,
      "outputs": [
        {
          "output_type": "execute_result",
          "data": {
            "text/plain": [
              "matrix([[0, 0, 0, ..., 0, 0, 0],\n",
              "        [0, 0, 1, ..., 0, 0, 0],\n",
              "        [0, 0, 0, ..., 0, 0, 0],\n",
              "        [1, 1, 0, ..., 1, 1, 0],\n",
              "        [0, 0, 0, ..., 0, 0, 0],\n",
              "        [0, 0, 0, ..., 0, 0, 1]])"
            ]
          },
          "metadata": {},
          "execution_count": 11
        }
      ]
    },
    {
      "cell_type": "markdown",
      "metadata": {
        "id": "PSCFF1-21GVp"
      },
      "source": [
        "Tworzymy i wypisujemy macierz częstotliwości występowania słów z gotowej funkcji biblioteki <font color='gold'>***sklearn***</font>. Wykluczamy słowa ze naszej stoplisty."
      ]
    },
    {
      "cell_type": "code",
      "metadata": {
        "colab": {
          "base_uri": "https://localhost:8080/"
        },
        "id": "nf-94Zya0aGY",
        "outputId": "e159d303-8ea7-48bd-e0b2-5e485d61e1e3"
      },
      "source": [
        "from sklearn.metrics.pairwise import cosine_similarity\n",
        "from numpy import around\n",
        "around(cosine_similarity(tokens_frequency), 3)"
      ],
      "execution_count": 17,
      "outputs": [
        {
          "output_type": "execute_result",
          "data": {
            "text/plain": [
              "array([[1.   , 0.212, 0.123, 0.089, 0.098, 0.026],\n",
              "       [0.212, 1.   , 0.186, 0.075, 0.068, 0.041],\n",
              "       [0.123, 0.186, 1.   , 0.029, 0.025, 0.034],\n",
              "       [0.089, 0.075, 0.029, 1.   , 0.028, 0.017],\n",
              "       [0.098, 0.068, 0.025, 0.028, 1.   , 0.004],\n",
              "       [0.026, 0.041, 0.034, 0.017, 0.004, 1.   ]])"
            ]
          },
          "metadata": {},
          "execution_count": 17
        }
      ]
    },
    {
      "cell_type": "markdown",
      "metadata": {
        "id": "EK8tSMaU3Jt0"
      },
      "source": [
        "Dzięki funkcji liczącej podobieństwo cosinusowe z biblioteki <font color='gold'>***sklearn***</font> tworzymy macierz odległości dokumentów. Zaokrąglamy do 3 miejsc po przecinku dzięki <font color='gold'>***numpy***</font>."
      ]
    },
    {
      "cell_type": "markdown",
      "metadata": {
        "id": "q_N6Y8ALAVag"
      },
      "source": [
        "###PCA"
      ]
    },
    {
      "cell_type": "code",
      "metadata": {
        "colab": {
          "base_uri": "https://localhost:8080/"
        },
        "id": "4U_oj-Q-A782",
        "outputId": "b220d847-7be1-4366-c3c5-95566676b716"
      },
      "source": [
        "from sklearn.decomposition import PCA\n",
        "pca = PCA(n_components = 2)\n",
        "visualization = pca.fit_transform(tfs.todense())\n",
        "pca.components_"
      ],
      "execution_count": 13,
      "outputs": [
        {
          "output_type": "execute_result",
          "data": {
            "text/plain": [
              "array([[ 0.00572882,  0.00572882, -0.00647634, ...,  0.00572882,\n",
              "         0.00572882,  0.04805425],\n",
              "       [ 0.00435271,  0.00435271, -0.00228295, ...,  0.00435271,\n",
              "         0.00435271, -0.04148485]])"
            ]
          },
          "metadata": {},
          "execution_count": 13
        }
      ]
    },
    {
      "cell_type": "markdown",
      "metadata": {
        "id": "49V5ql1qBfqy"
      },
      "source": [
        "Dzięki gotowej funkcji PCA z biblioteki <font color='gold'>***sklearn***</font> redukujemy macierz tf-idf fo 2 wymiarów."
      ]
    },
    {
      "cell_type": "code",
      "metadata": {
        "colab": {
          "base_uri": "https://localhost:8080/",
          "height": 517
        },
        "id": "Syotu2stC1w4",
        "outputId": "3c1678a4-c7d0-436b-865a-bbde63d04728"
      },
      "source": [
        "import plotly.express as px\n",
        "names = [\"Brzydkie kaczątko\", \"Calineczka\", \"Dziewczynka z zapałkami\", \"Puszkin\", \"Pan Grubas\", \"Lament Świętokrzyski\"]\n",
        "fig = px.scatter(x=visualization[:, 0], y=visualization[:, 1],\n",
        "                 text=names,\n",
        "                 width=700, height=500)\n",
        "fig.update_traces(textposition=\"bottom center\")\n",
        "fig.update_xaxes(title=\"pca1\",\n",
        "                 range=[-0.7, 0.95])\n",
        "fig.update_yaxes(title=\"pca2\")\n",
        "fig.show()"
      ],
      "execution_count": 14,
      "outputs": [
        {
          "output_type": "display_data",
          "data": {
            "text/html": [
              "<html>\n",
              "<head><meta charset=\"utf-8\" /></head>\n",
              "<body>\n",
              "    <div>\n",
              "            <script src=\"https://cdnjs.cloudflare.com/ajax/libs/mathjax/2.7.5/MathJax.js?config=TeX-AMS-MML_SVG\"></script><script type=\"text/javascript\">if (window.MathJax) {MathJax.Hub.Config({SVG: {font: \"STIX-Web\"}});}</script>\n",
              "                <script type=\"text/javascript\">window.PlotlyConfig = {MathJaxConfig: 'local'};</script>\n",
              "        <script src=\"https://cdn.plot.ly/plotly-latest.min.js\"></script>    \n",
              "            <div id=\"c2aa8f9a-baa1-4dd4-9187-e8a7bfce2c60\" class=\"plotly-graph-div\" style=\"height:500px; width:700px;\"></div>\n",
              "            <script type=\"text/javascript\">\n",
              "                \n",
              "                    window.PLOTLYENV=window.PLOTLYENV || {};\n",
              "                    \n",
              "                if (document.getElementById(\"c2aa8f9a-baa1-4dd4-9187-e8a7bfce2c60\")) {\n",
              "                    Plotly.newPlot(\n",
              "                        'c2aa8f9a-baa1-4dd4-9187-e8a7bfce2c60',\n",
              "                        [{\"hoverlabel\": {\"namelength\": 0}, \"hovertemplate\": \"x=%{x}<br>y=%{y}<br>text=%{text}\", \"legendgroup\": \"\", \"marker\": {\"color\": \"#636efa\", \"symbol\": \"circle\"}, \"mode\": \"markers+text\", \"name\": \"\", \"showlegend\": false, \"text\": [\"Brzydkie kacz\\u0105tko\", \"Calineczka\", \"Dziewczynka z zapa\\u0142kami\", \"Puszkin\", \"Pan Grubas\", \"Lament \\u015awi\\u0119tokrzyski\"], \"textposition\": \"bottom center\", \"type\": \"scatter\", \"x\": [-0.29355240858117987, -0.4422219629794537, -0.4292869582822132, 0.2854940960968347, 0.21420189559254993, 0.6653653381534618], \"xaxis\": \"x\", \"y\": [0.20122450165017353, -0.1514978104682427, -0.3722707388061233, 0.21081014885876007, 0.6699692015003665, -0.5582353027349337], \"yaxis\": \"y\"}],\n",
              "                        {\"height\": 500, \"legend\": {\"tracegroupgap\": 0}, \"margin\": {\"t\": 60}, \"template\": {\"data\": {\"bar\": [{\"error_x\": {\"color\": \"#2a3f5f\"}, \"error_y\": {\"color\": \"#2a3f5f\"}, \"marker\": {\"line\": {\"color\": \"#E5ECF6\", \"width\": 0.5}}, \"type\": \"bar\"}], \"barpolar\": [{\"marker\": {\"line\": {\"color\": \"#E5ECF6\", \"width\": 0.5}}, \"type\": \"barpolar\"}], \"carpet\": [{\"aaxis\": {\"endlinecolor\": \"#2a3f5f\", \"gridcolor\": \"white\", \"linecolor\": \"white\", \"minorgridcolor\": \"white\", \"startlinecolor\": \"#2a3f5f\"}, \"baxis\": {\"endlinecolor\": \"#2a3f5f\", \"gridcolor\": \"white\", \"linecolor\": \"white\", \"minorgridcolor\": \"white\", \"startlinecolor\": \"#2a3f5f\"}, \"type\": \"carpet\"}], \"choropleth\": [{\"colorbar\": {\"outlinewidth\": 0, \"ticks\": \"\"}, \"type\": \"choropleth\"}], \"contour\": [{\"colorbar\": {\"outlinewidth\": 0, \"ticks\": \"\"}, \"colorscale\": [[0.0, \"#0d0887\"], [0.1111111111111111, \"#46039f\"], [0.2222222222222222, \"#7201a8\"], [0.3333333333333333, \"#9c179e\"], [0.4444444444444444, \"#bd3786\"], [0.5555555555555556, \"#d8576b\"], [0.6666666666666666, \"#ed7953\"], [0.7777777777777778, \"#fb9f3a\"], [0.8888888888888888, \"#fdca26\"], [1.0, \"#f0f921\"]], \"type\": \"contour\"}], \"contourcarpet\": [{\"colorbar\": {\"outlinewidth\": 0, \"ticks\": \"\"}, \"type\": \"contourcarpet\"}], \"heatmap\": [{\"colorbar\": {\"outlinewidth\": 0, \"ticks\": \"\"}, \"colorscale\": [[0.0, \"#0d0887\"], [0.1111111111111111, \"#46039f\"], [0.2222222222222222, \"#7201a8\"], [0.3333333333333333, \"#9c179e\"], [0.4444444444444444, \"#bd3786\"], [0.5555555555555556, \"#d8576b\"], [0.6666666666666666, \"#ed7953\"], [0.7777777777777778, \"#fb9f3a\"], [0.8888888888888888, \"#fdca26\"], [1.0, \"#f0f921\"]], \"type\": \"heatmap\"}], \"heatmapgl\": [{\"colorbar\": {\"outlinewidth\": 0, \"ticks\": \"\"}, \"colorscale\": [[0.0, \"#0d0887\"], [0.1111111111111111, \"#46039f\"], [0.2222222222222222, \"#7201a8\"], [0.3333333333333333, \"#9c179e\"], [0.4444444444444444, \"#bd3786\"], [0.5555555555555556, \"#d8576b\"], [0.6666666666666666, \"#ed7953\"], [0.7777777777777778, \"#fb9f3a\"], [0.8888888888888888, \"#fdca26\"], [1.0, \"#f0f921\"]], \"type\": \"heatmapgl\"}], \"histogram\": [{\"marker\": {\"colorbar\": {\"outlinewidth\": 0, \"ticks\": \"\"}}, \"type\": \"histogram\"}], \"histogram2d\": [{\"colorbar\": {\"outlinewidth\": 0, \"ticks\": \"\"}, \"colorscale\": [[0.0, \"#0d0887\"], [0.1111111111111111, \"#46039f\"], [0.2222222222222222, \"#7201a8\"], [0.3333333333333333, \"#9c179e\"], [0.4444444444444444, \"#bd3786\"], [0.5555555555555556, \"#d8576b\"], [0.6666666666666666, \"#ed7953\"], [0.7777777777777778, \"#fb9f3a\"], [0.8888888888888888, \"#fdca26\"], [1.0, \"#f0f921\"]], \"type\": \"histogram2d\"}], \"histogram2dcontour\": [{\"colorbar\": {\"outlinewidth\": 0, \"ticks\": \"\"}, \"colorscale\": [[0.0, \"#0d0887\"], [0.1111111111111111, \"#46039f\"], [0.2222222222222222, \"#7201a8\"], [0.3333333333333333, \"#9c179e\"], [0.4444444444444444, \"#bd3786\"], [0.5555555555555556, \"#d8576b\"], [0.6666666666666666, \"#ed7953\"], [0.7777777777777778, \"#fb9f3a\"], [0.8888888888888888, \"#fdca26\"], [1.0, \"#f0f921\"]], \"type\": \"histogram2dcontour\"}], \"mesh3d\": [{\"colorbar\": {\"outlinewidth\": 0, \"ticks\": \"\"}, \"type\": \"mesh3d\"}], \"parcoords\": [{\"line\": {\"colorbar\": {\"outlinewidth\": 0, \"ticks\": \"\"}}, \"type\": \"parcoords\"}], \"pie\": [{\"automargin\": true, \"type\": \"pie\"}], \"scatter\": [{\"marker\": {\"colorbar\": {\"outlinewidth\": 0, \"ticks\": \"\"}}, \"type\": \"scatter\"}], \"scatter3d\": [{\"line\": {\"colorbar\": {\"outlinewidth\": 0, \"ticks\": \"\"}}, \"marker\": {\"colorbar\": {\"outlinewidth\": 0, \"ticks\": \"\"}}, \"type\": \"scatter3d\"}], \"scattercarpet\": [{\"marker\": {\"colorbar\": {\"outlinewidth\": 0, \"ticks\": \"\"}}, \"type\": \"scattercarpet\"}], \"scattergeo\": [{\"marker\": {\"colorbar\": {\"outlinewidth\": 0, \"ticks\": \"\"}}, \"type\": \"scattergeo\"}], \"scattergl\": [{\"marker\": {\"colorbar\": {\"outlinewidth\": 0, \"ticks\": \"\"}}, \"type\": \"scattergl\"}], \"scattermapbox\": [{\"marker\": {\"colorbar\": {\"outlinewidth\": 0, \"ticks\": \"\"}}, \"type\": \"scattermapbox\"}], \"scatterpolar\": [{\"marker\": {\"colorbar\": {\"outlinewidth\": 0, \"ticks\": \"\"}}, \"type\": \"scatterpolar\"}], \"scatterpolargl\": [{\"marker\": {\"colorbar\": {\"outlinewidth\": 0, \"ticks\": \"\"}}, \"type\": \"scatterpolargl\"}], \"scatterternary\": [{\"marker\": {\"colorbar\": {\"outlinewidth\": 0, \"ticks\": \"\"}}, \"type\": \"scatterternary\"}], \"surface\": [{\"colorbar\": {\"outlinewidth\": 0, \"ticks\": \"\"}, \"colorscale\": [[0.0, \"#0d0887\"], [0.1111111111111111, \"#46039f\"], [0.2222222222222222, \"#7201a8\"], [0.3333333333333333, \"#9c179e\"], [0.4444444444444444, \"#bd3786\"], [0.5555555555555556, \"#d8576b\"], [0.6666666666666666, \"#ed7953\"], [0.7777777777777778, \"#fb9f3a\"], [0.8888888888888888, \"#fdca26\"], [1.0, \"#f0f921\"]], \"type\": \"surface\"}], \"table\": [{\"cells\": {\"fill\": {\"color\": \"#EBF0F8\"}, \"line\": {\"color\": \"white\"}}, \"header\": {\"fill\": {\"color\": \"#C8D4E3\"}, \"line\": {\"color\": \"white\"}}, \"type\": \"table\"}]}, \"layout\": {\"annotationdefaults\": {\"arrowcolor\": \"#2a3f5f\", \"arrowhead\": 0, \"arrowwidth\": 1}, \"coloraxis\": {\"colorbar\": {\"outlinewidth\": 0, \"ticks\": \"\"}}, \"colorscale\": {\"diverging\": [[0, \"#8e0152\"], [0.1, \"#c51b7d\"], [0.2, \"#de77ae\"], [0.3, \"#f1b6da\"], [0.4, \"#fde0ef\"], [0.5, \"#f7f7f7\"], [0.6, \"#e6f5d0\"], [0.7, \"#b8e186\"], [0.8, \"#7fbc41\"], [0.9, \"#4d9221\"], [1, \"#276419\"]], \"sequential\": [[0.0, \"#0d0887\"], [0.1111111111111111, \"#46039f\"], [0.2222222222222222, \"#7201a8\"], [0.3333333333333333, \"#9c179e\"], [0.4444444444444444, \"#bd3786\"], [0.5555555555555556, \"#d8576b\"], [0.6666666666666666, \"#ed7953\"], [0.7777777777777778, \"#fb9f3a\"], [0.8888888888888888, \"#fdca26\"], [1.0, \"#f0f921\"]], \"sequentialminus\": [[0.0, \"#0d0887\"], [0.1111111111111111, \"#46039f\"], [0.2222222222222222, \"#7201a8\"], [0.3333333333333333, \"#9c179e\"], [0.4444444444444444, \"#bd3786\"], [0.5555555555555556, \"#d8576b\"], [0.6666666666666666, \"#ed7953\"], [0.7777777777777778, \"#fb9f3a\"], [0.8888888888888888, \"#fdca26\"], [1.0, \"#f0f921\"]]}, \"colorway\": [\"#636efa\", \"#EF553B\", \"#00cc96\", \"#ab63fa\", \"#FFA15A\", \"#19d3f3\", \"#FF6692\", \"#B6E880\", \"#FF97FF\", \"#FECB52\"], \"font\": {\"color\": \"#2a3f5f\"}, \"geo\": {\"bgcolor\": \"white\", \"lakecolor\": \"white\", \"landcolor\": \"#E5ECF6\", \"showlakes\": true, \"showland\": true, \"subunitcolor\": \"white\"}, \"hoverlabel\": {\"align\": \"left\"}, \"hovermode\": \"closest\", \"mapbox\": {\"style\": \"light\"}, \"paper_bgcolor\": \"white\", \"plot_bgcolor\": \"#E5ECF6\", \"polar\": {\"angularaxis\": {\"gridcolor\": \"white\", \"linecolor\": \"white\", \"ticks\": \"\"}, \"bgcolor\": \"#E5ECF6\", \"radialaxis\": {\"gridcolor\": \"white\", \"linecolor\": \"white\", \"ticks\": \"\"}}, \"scene\": {\"xaxis\": {\"backgroundcolor\": \"#E5ECF6\", \"gridcolor\": \"white\", \"gridwidth\": 2, \"linecolor\": \"white\", \"showbackground\": true, \"ticks\": \"\", \"zerolinecolor\": \"white\"}, \"yaxis\": {\"backgroundcolor\": \"#E5ECF6\", \"gridcolor\": \"white\", \"gridwidth\": 2, \"linecolor\": \"white\", \"showbackground\": true, \"ticks\": \"\", \"zerolinecolor\": \"white\"}, \"zaxis\": {\"backgroundcolor\": \"#E5ECF6\", \"gridcolor\": \"white\", \"gridwidth\": 2, \"linecolor\": \"white\", \"showbackground\": true, \"ticks\": \"\", \"zerolinecolor\": \"white\"}}, \"shapedefaults\": {\"line\": {\"color\": \"#2a3f5f\"}}, \"ternary\": {\"aaxis\": {\"gridcolor\": \"white\", \"linecolor\": \"white\", \"ticks\": \"\"}, \"baxis\": {\"gridcolor\": \"white\", \"linecolor\": \"white\", \"ticks\": \"\"}, \"bgcolor\": \"#E5ECF6\", \"caxis\": {\"gridcolor\": \"white\", \"linecolor\": \"white\", \"ticks\": \"\"}}, \"title\": {\"x\": 0.05}, \"xaxis\": {\"automargin\": true, \"gridcolor\": \"white\", \"linecolor\": \"white\", \"ticks\": \"\", \"title\": {\"standoff\": 15}, \"zerolinecolor\": \"white\", \"zerolinewidth\": 2}, \"yaxis\": {\"automargin\": true, \"gridcolor\": \"white\", \"linecolor\": \"white\", \"ticks\": \"\", \"title\": {\"standoff\": 15}, \"zerolinecolor\": \"white\", \"zerolinewidth\": 2}}}, \"width\": 700, \"xaxis\": {\"anchor\": \"y\", \"domain\": [0.0, 1.0], \"range\": [-0.7, 0.95], \"title\": {\"text\": \"pca1\"}}, \"yaxis\": {\"anchor\": \"x\", \"domain\": [0.0, 1.0], \"title\": {\"text\": \"pca2\"}}},\n",
              "                        {\"responsive\": true}\n",
              "                    ).then(function(){\n",
              "                            \n",
              "var gd = document.getElementById('c2aa8f9a-baa1-4dd4-9187-e8a7bfce2c60');\n",
              "var x = new MutationObserver(function (mutations, observer) {{\n",
              "        var display = window.getComputedStyle(gd).display;\n",
              "        if (!display || display === 'none') {{\n",
              "            console.log([gd, 'removed!']);\n",
              "            Plotly.purge(gd);\n",
              "            observer.disconnect();\n",
              "        }}\n",
              "}});\n",
              "\n",
              "// Listen for the removal of the full notebook cells\n",
              "var notebookContainer = gd.closest('#notebook-container');\n",
              "if (notebookContainer) {{\n",
              "    x.observe(notebookContainer, {childList: true});\n",
              "}}\n",
              "\n",
              "// Listen for the clearing of the current output cell\n",
              "var outputEl = gd.closest('.output');\n",
              "if (outputEl) {{\n",
              "    x.observe(outputEl, {childList: true});\n",
              "}}\n",
              "\n",
              "                        })\n",
              "                };\n",
              "                \n",
              "            </script>\n",
              "        </div>\n",
              "</body>\n",
              "</html>"
            ]
          },
          "metadata": {}
        }
      ]
    },
    {
      "cell_type": "markdown",
      "metadata": {
        "id": "BtMXuqreIEgo"
      },
      "source": [
        "Na układzie współrzędnych widzimy położenie każdego z dokumentów."
      ]
    },
    {
      "cell_type": "markdown",
      "metadata": {
        "id": "INiXYla1vrrT"
      },
      "source": [
        "###Wnioski"
      ]
    },
    {
      "cell_type": "markdown",
      "metadata": {
        "id": "P-BW6Z0rvwCm"
      },
      "source": [
        "#####PCA\n",
        "Na podstawie wykresu widzimy, że względem zmiennej PCA1 najbardziej zbliżone są powieści H.C.Andersena oraz osobno Bajki braci Grimm i Puszkina. Względem zmiennej PCA2 najwięcej wspólnego mają ze sobą bajki \"Brzydkie kaczątko\" i \"Bajka o rybaku i rybce\"."
      ]
    },
    {
      "cell_type": "markdown",
      "metadata": {
        "id": "BlJy2gIWv6ZS"
      },
      "source": [
        "##### Podobieństwo cosinusowe\n",
        "Na podstawie macierzy widzimy, że najbardziej podobne do siebie są \"Calineczka\" i \"Brzydkie kaczątko\". Podobieństwo występuję również miedzy pozostałymi baśniami H.C. Andersena."
      ]
    },
    {
      "cell_type": "markdown",
      "metadata": {
        "id": "uP1nIHC-w5vX"
      },
      "source": [
        "#####Podsumowanie\n",
        "Obie metody wskazują na podobieństwo baśni H.C. Andersena."
      ]
    }
  ]
}